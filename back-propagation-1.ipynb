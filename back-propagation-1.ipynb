{
 "cells": [
  {
   "cell_type": "code",
   "execution_count": null,
   "metadata": {},
   "outputs": [],
   "source": [
    "%pip install matplotlib\n",
    "%pip install numpy\n",
    "%matplotlib inline"
   ]
  },
  {
   "cell_type": "code",
   "execution_count": null,
   "metadata": {},
   "outputs": [],
   "source": [
    "import numpy as np\n",
    "import matplotlib.pyplot as plt\n"
   ]
  },
  {
   "cell_type": "code",
   "execution_count": null,
   "metadata": {},
   "outputs": [],
   "source": [
    "def f(x):\n",
    "    return 3*x**2-4*x+5"
   ]
  },
  {
   "cell_type": "code",
   "execution_count": null,
   "metadata": {},
   "outputs": [],
   "source": [
    "f(3)"
   ]
  },
  {
   "cell_type": "markdown",
   "metadata": {},
   "source": [
    "Lets Plot this function. Its mostly a parabolic function. x = -5 to 5 with steps of 0.25"
   ]
  },
  {
   "cell_type": "code",
   "execution_count": null,
   "metadata": {},
   "outputs": [],
   "source": [
    "xs = np.arange(-5.0,5.0,0.25)\n",
    "xs"
   ]
  },
  {
   "cell_type": "code",
   "execution_count": null,
   "metadata": {},
   "outputs": [],
   "source": [
    "ys=f(xs)\n",
    "ys"
   ]
  },
  {
   "cell_type": "code",
   "execution_count": null,
   "metadata": {},
   "outputs": [],
   "source": [
    "plt.plot(xs,ys)\n",
    "plt.ylabel(\"f(x)\")\n",
    "plt.xlabel(\"x\")"
   ]
  },
  {
   "cell_type": "markdown",
   "metadata": {},
   "source": [
    "**Our Goal is to find at what input the function value is close to 0**"
   ]
  },
  {
   "cell_type": "markdown",
   "metadata": {},
   "source": [
    "***Approach   : Using Gradient***"
   ]
  },
  {
   "cell_type": "markdown",
   "metadata": {},
   "source": [
    "What is the derivate of this function at every input point x.\n",
    "$$\n",
    "f'(x) = \\lim_{{h \\to 0}} \\frac{{f(x + h) - f(x)}}{h} \n",
    "$$\n"
   ]
  },
  {
   "cell_type": "markdown",
   "metadata": {},
   "source": [
    "where you slighly bump-up x (input) by very small amount(h->0), how does the function response. or whats the rate of change. (slope of response.) whether it goes up or down"
   ]
  },
  {
   "cell_type": "code",
   "execution_count": null,
   "metadata": {},
   "outputs": [],
   "source": [
    "def grad(x,h=0.001):\n",
    "    return (f(x+h)-f(x))/h"
   ]
  },
  {
   "cell_type": "code",
   "execution_count": null,
   "metadata": {},
   "outputs": [],
   "source": [
    "grad(-3.0), grad(0.25), grad(3.0)"
   ]
  },
  {
   "cell_type": "markdown",
   "metadata": {},
   "source": [
    "***If we have to go towards zero. go in reverse direction of gradient***\n",
    "<br>\n",
    "***Higher the gradient, more aggresaive we can be in terms of increasing the next value of input***\n"
   ]
  },
  {
   "cell_type": "code",
   "execution_count": null,
   "metadata": {},
   "outputs": [],
   "source": [
    "x=-4.0\n",
    "epochs = 20\n",
    "lr=0.05\n",
    "\n",
    "for epoch in range(epochs):\n",
    "    print(f\"With x= {x}, f(x) =  {f(x)}\")\n",
    "    x+=lr*(-grad(x))\n",
    "    \n"
   ]
  },
  {
   "cell_type": "code",
   "execution_count": null,
   "metadata": {},
   "outputs": [],
   "source": [
    "def plot(red_xs,red_ys):\n",
    "    xs=np.arange(-5.0,5.0,0.25)\n",
    "    ys=f(xs)\n",
    "    plt.plot(xs,ys)\n",
    "    plt.plot(red_xs, red_ys, 'ro') \n",
    "    plt.ylabel(\"f(x)\")\n",
    "    plt.xlabel(\"x\")"
   ]
  },
  {
   "cell_type": "code",
   "execution_count": null,
   "metadata": {},
   "outputs": [],
   "source": [
    "plot(2.0,f(2.0))"
   ]
  },
  {
   "cell_type": "code",
   "execution_count": null,
   "metadata": {},
   "outputs": [],
   "source": [
    "x=-4\n",
    "epochs = 23\n",
    "r_xs=[]\n",
    "r_ys=[]\n",
    "lr=0.05\n",
    "for epoch in range(epochs):\n",
    "    r_xs.append(x)\n",
    "    r_ys.append(f(x))\n",
    "    x+=lr*(-grad(x))\n",
    "    \n",
    "plot(r_xs,r_ys)\n"
   ]
  }
 ],
 "metadata": {
  "kernelspec": {
   "display_name": "Python 3 (ipykernel)",
   "language": "python",
   "name": "python3"
  },
  "language_info": {
   "codemirror_mode": {
    "name": "ipython",
    "version": 3
   },
   "file_extension": ".py",
   "mimetype": "text/x-python",
   "name": "python",
   "nbconvert_exporter": "python",
   "pygments_lexer": "ipython3",
   "version": "3.10.8"
  },
  "orig_nbformat": 4
 },
 "nbformat": 4,
 "nbformat_minor": 2
}
